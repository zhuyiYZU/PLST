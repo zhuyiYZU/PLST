{
 "cells": [
  {
   "cell_type": "code",
   "execution_count": 1,
   "id": "9ac792c3",
   "metadata": {},
   "outputs": [],
   "source": [
    "import pandas as pd\n"
   ]
  },
  {
   "cell_type": "code",
   "execution_count": 13,
   "id": "65be5ca4",
   "metadata": {},
   "outputs": [],
   "source": [
    "df = pd.read_csv('train.csv',header=None)\n",
    "df_ = pd.read_csv('test.csv',header=None)\n",
    "with open('classes.txt','r') as f:\n",
    "    labels = f.read().split('\\n')"
   ]
  },
  {
   "cell_type": "code",
   "execution_count": 14,
   "id": "d60dcd55",
   "metadata": {},
   "outputs": [],
   "source": [
    "df2 = pd.concat([df_,df],axis=0)"
   ]
  },
  {
   "cell_type": "code",
   "execution_count": 15,
   "id": "f7b728d5",
   "metadata": {},
   "outputs": [],
   "source": [
    "elements = []\n",
    "for i in range(df2.shape[0]):\n",
    "    index, text, label_index = df2.values[i]\n",
    "    elements.append(text+' '+labels[label_index-1])"
   ]
  },
  {
   "cell_type": "code",
   "execution_count": 16,
   "id": "cc31ff3d",
   "metadata": {},
   "outputs": [],
   "source": [
    "with open('../../../../probase-concept/text.txt','w') as f:\n",
    "    f.write('\\n'.join(elements))"
   ]
  },
  {
   "cell_type": "code",
   "execution_count": null,
   "id": "ca2c46c8",
   "metadata": {},
   "outputs": [],
   "source": []
  }
 ],
 "metadata": {
  "kernelspec": {
   "display_name": "Python 3",
   "language": "python",
   "name": "python3"
  },
  "language_info": {
   "codemirror_mode": {
    "name": "ipython",
    "version": 3
   },
   "file_extension": ".py",
   "mimetype": "text/x-python",
   "name": "python",
   "nbconvert_exporter": "python",
   "pygments_lexer": "ipython3",
   "version": "3.8.8"
  }
 },
 "nbformat": 4,
 "nbformat_minor": 5
}
